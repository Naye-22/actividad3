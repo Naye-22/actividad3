{
 "cells": [
  {
   "cell_type": "markdown",
   "id": "485157aa-261d-47a0-b4d7-8f23a5dcf922",
   "metadata": {},
   "source": [
    "# 1. Crea el Menú Base:"
   ]
  },
  {
   "cell_type": "code",
   "execution_count": 31,
   "id": "571828a2-4fa3-47bc-bcf5-b9d3a730f27b",
   "metadata": {},
   "outputs": [],
   "source": [
    "menu_restaurante = {\n",
    "    'Pizza': {\n",
    "        'precio': 2.50,\n",
    "        'ingredientes': ('tomate', 'mozzarella', 'albahaca')\n",
    "    },\n",
    "    'Ceviche': {\n",
    "        'precio': 9.00,\n",
    "        'ingredientes': ('tomate', 'camaron','cebolla', 'concha', 'chifles', 'arroz')\n",
    "    },\n",
    "    'Pasta': {\n",
    "        'precio': 11.75,\n",
    "        'ingredientes': ('pasta', 'huevo', 'queso parmesano', 'panceta', 'pimienta')\n",
    "    },\n",
    "    'Hamburguesa Clásica': {\n",
    "        'precio': 10.50,\n",
    "        'ingredientes': ('carne', 'pan', 'lechuga', 'tomate', 'queso', 'salsa')\n",
    "    },\n",
    "    'Sopa de Tomate': {\n",
    "        'precio': 4.00,\n",
    "        'ingredientes': ('tomate', 'cebolla', 'ajo', 'caldo de verduras')\n",
    "    },\n",
    "    'Tacos al Pastor': {\n",
    "        'precio': 9.50,\n",
    "        'ingredientes': ('cerdo', 'piña', 'cebolla', 'cilantro', 'tortilla')\n",
    "    },\n",
    "    'Encebollado': {\n",
    "        'precio': 13.00,\n",
    "        'ingredientes': ('albacora', 'chifles', 'arroz', 'pan', 'cebolla/cilantro')\n",
    "    }\n",
    "}"
   ]
  },
  {
   "cell_type": "markdown",
   "id": "a3608e25-d6c5-4fb4-b2f2-c6f32a18c857",
   "metadata": {},
   "source": [
    "# 2. Muestra el Menú:"
   ]
  },
  {
   "cell_type": "code",
   "execution_count": 32,
   "id": "36a94a70-d8a1-4708-9a30-da0678aacebb",
   "metadata": {},
   "outputs": [
    {
     "name": "stdout",
     "output_type": "stream",
     "text": [
      "Plato: Pizza\n",
      "Precio: $2.50\n",
      "Ingredientes: tomate, mozzarella, albahaca\n",
      "----------------------------------------\n",
      "Plato: Ceviche\n",
      "Precio: $9.00\n",
      "Ingredientes: tomate, camaron, cebolla, concha, chifles, arroz\n",
      "----------------------------------------\n",
      "Plato: Pasta\n",
      "Precio: $11.75\n",
      "Ingredientes: pasta, huevo, queso parmesano, panceta, pimienta\n",
      "----------------------------------------\n",
      "Plato: Hamburguesa Clásica\n",
      "Precio: $10.50\n",
      "Ingredientes: carne, pan, lechuga, tomate, queso, salsa\n",
      "----------------------------------------\n",
      "Plato: Sopa de Tomate\n",
      "Precio: $4.00\n",
      "Ingredientes: tomate, cebolla, ajo, caldo de verduras\n",
      "----------------------------------------\n",
      "Plato: Tacos al Pastor\n",
      "Precio: $9.50\n",
      "Ingredientes: cerdo, piña, cebolla, cilantro, tortilla\n",
      "----------------------------------------\n",
      "Plato: Encebollado\n",
      "Precio: $13.00\n",
      "Ingredientes: albacora, chifles, arroz, pan, cebolla/cilantro\n",
      "----------------------------------------\n"
     ]
    }
   ],
   "source": [
    "def mostrar_menu(menu):\n",
    "    for plato, detalles in menu.items():\n",
    "        precio = detalles['precio']\n",
    "        ingredientes = ', '.join(detalles['ingredientes'])\n",
    "        print(f\"Plato: {plato}\")\n",
    "        print(f\"Precio: ${precio:.2f}\")\n",
    "        print(f\"Ingredientes: {ingredientes}\")\n",
    "        print('-' * 40)\n",
    "\n",
    "mostrar_menu(menu_restaurante)\n"
   ]
  },
  {
   "cell_type": "markdown",
   "id": "c0dc710c-8544-483f-bc27-4ac607b4a35a",
   "metadata": {},
   "source": [
    "# Parte 2: Simulación de Pedidos del Cliente"
   ]
  },
  {
   "cell_type": "markdown",
   "id": "c4049dfa-cf62-44b6-b8f4-6b89feeddbe7",
   "metadata": {},
   "source": [
    "### 1. Inicia un Pedido:"
   ]
  },
  {
   "cell_type": "code",
   "execution_count": 39,
   "id": "eb96a48d-8f17-41c8-80c5-9127de8ec66b",
   "metadata": {},
   "outputs": [],
   "source": [
    "pedido_actual = []\n",
    "total_cuenta= 0.0"
   ]
  },
  {
   "cell_type": "markdown",
   "id": "b658c8ef-e57d-4819-9bb6-6f08a79f6736",
   "metadata": {},
   "source": [
    "### 2. Recibe el Pedido:"
   ]
  },
  {
   "cell_type": "code",
   "execution_count": 40,
   "id": "2cb0266a-b32e-414a-a96f-c1d9d288af84",
   "metadata": {},
   "outputs": [
    {
     "name": "stdin",
     "output_type": "stream",
     "text": [
      "Introduzca el plato deseado (o 'fin' para terminar):  fin\n"
     ]
    }
   ],
   "source": [
    "\n",
    "\n",
    "while True:\n",
    "    plato = input(\"Introduzca el plato deseado (o 'fin' para terminar): \").lower()\n",
    "\n",
    "    if plato == 'fin':\n",
    "        break\n",
    "\n",
    "    platos_menu = {k.lower(): k for k in menu_restaurante}  # mapeo de minúscula a nombre original\n",
    "\n",
    "    if plato in platos_menu:\n",
    "        nombre_plato_original = platos_menu[plato]  # recuperamos el nombre exacto con mayúsculas\n",
    "        pedido_actual.append(nombre_plato_original)\n",
    "        total_cuenta += menu_restaurante[nombre_plato_original]['precio']\n",
    "        print(f\"¡'{nombre_plato_original}' añadido al pedido!\")\n",
    "    else:\n",
    "        print(\"Lo sentimos, ese plato no está en el menú.\")\n"
   ]
  },
  {
   "cell_type": "code",
   "execution_count": 41,
   "id": "3dc1a090-4b97-4d15-af5a-a42601fa508c",
   "metadata": {},
   "outputs": [
    {
     "name": "stdout",
     "output_type": "stream",
     "text": [
      "\n",
      "Resumen del pedido:\n",
      "No se ha realizado ningún pedido.\n"
     ]
    }
   ],
   "source": [
    "print(\"\\nResumen del pedido:\")\n",
    "if pedido_actual:\n",
    "    for i, plato in enumerate(pedido_actual, start=1):\n",
    "        print(f\"{i}. {plato}\")\n",
    "    print(f\"\\nTotal a pagar: ${total_cuenta:.2f}\")\n",
    "else:\n",
    "    print(\"No se ha realizado ningún pedido.\")"
   ]
  },
  {
   "cell_type": "markdown",
   "id": "1ce2c0cd-85dc-4b60-8988-069d31bd9a00",
   "metadata": {},
   "source": [
    "# Parte 3: Manipulación Avanzada del Menú"
   ]
  },
  {
   "cell_type": "markdown",
   "id": "9d28213d-4f14-49e5-949d-0b06f8236967",
   "metadata": {},
   "source": [
    "### 1. Modificar un Precio:"
   ]
  },
  {
   "cell_type": "code",
   "execution_count": null,
   "id": "72db839e-b72f-4f82-8e8c-b23cc2dfa413",
   "metadata": {},
   "outputs": [],
   "source": []
  }
 ],
 "metadata": {
  "kernelspec": {
   "display_name": "Python 3 (ipykernel)",
   "language": "python",
   "name": "python3"
  },
  "language_info": {
   "codemirror_mode": {
    "name": "ipython",
    "version": 3
   },
   "file_extension": ".py",
   "mimetype": "text/x-python",
   "name": "python",
   "nbconvert_exporter": "python",
   "pygments_lexer": "ipython3",
   "version": "3.12.7"
  }
 },
 "nbformat": 4,
 "nbformat_minor": 5
}
